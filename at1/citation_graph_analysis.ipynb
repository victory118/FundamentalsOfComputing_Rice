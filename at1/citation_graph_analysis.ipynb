{
 "cells": [
  {
   "cell_type": "code",
   "execution_count": 1,
   "metadata": {},
   "outputs": [
    {
     "ename": "SyntaxError",
     "evalue": "invalid syntax (alg_load_graph.py, line 32)",
     "output_type": "error",
     "traceback": [
      "Traceback \u001b[0;36m(most recent call last)\u001b[0m:\n",
      "  File \u001b[1;32m\"/home/victor/anaconda3/lib/python3.6/site-packages/IPython/core/interactiveshell.py\"\u001b[0m, line \u001b[1;32m2963\u001b[0m, in \u001b[1;35mrun_code\u001b[0m\n    exec(code_obj, self.user_global_ns, self.user_ns)\n",
      "\u001b[0;36m  File \u001b[0;32m\"<ipython-input-1-1d7f9300d9de>\"\u001b[0;36m, line \u001b[0;32m2\u001b[0;36m, in \u001b[0;35m<module>\u001b[0;36m\u001b[0m\n\u001b[0;31m    import alg_load_graph\u001b[0m\n",
      "\u001b[0;36m  File \u001b[0;32m\"/home/victor/FundamentalsOfComputing_Rice/at1/alg_load_graph.py\"\u001b[0;36m, line \u001b[0;32m32\u001b[0m\n\u001b[0;31m    print \"Loaded graph with\", len(graph_lines), \"nodes\"\u001b[0m\n\u001b[0m                            ^\u001b[0m\n\u001b[0;31mSyntaxError\u001b[0m\u001b[0;31m:\u001b[0m invalid syntax\n"
     ]
    }
   ],
   "source": [
    "# Download data and save locally as pickle file if first time running\n",
    "import alg_load_graph\n",
    "\n",
    "citation_graph = alg_load_graph.load_graph(alg_load_graph.CITATION_URL)\n",
    "                                           \n",
    "import pickle\n",
    "                                           \n",
    "pickle_out = open(\"citation_graph.pickle\",\"wb\")\n",
    "pickle.dump(citation_graph, pickle_out)\n",
    "pickle_out.close()"
   ]
  },
  {
   "cell_type": "code",
   "execution_count": 1,
   "metadata": {},
   "outputs": [],
   "source": [
    "# Load the citation graph dictionary from pickle file\n",
    "import pickle\n",
    "pickle_in = open(\"citation_graph.pickle\",\"rb\")\n",
    "citation_graph = pickle.load(pickle_in)"
   ]
  },
  {
   "cell_type": "code",
   "execution_count": 34,
   "metadata": {},
   "outputs": [],
   "source": [
    "# Compute the in-degree distribution\n",
    "import directed_graphs\n",
    "\n",
    "in_degree_dist = directed_graphs.in_degree_distribution(citation_graph)"
   ]
  },
  {
   "cell_type": "code",
   "execution_count": 3,
   "metadata": {},
   "outputs": [
    {
     "name": "stdout",
     "output_type": "stream",
     "text": [
      "{0: 4594, 2: 2699, 21: 185, 5: 1327, 9: 690, 8: 824, 15: 322, 6: 1138, 28: 138, 4: 1638, 3: 1994, 1: 3787, 19: 250, 11: 527, 99: 9, 13: 447, 14: 409, 42: 53, 68: 24, 17: 274, 26: 128, 7: 901, 22: 185, 40: 52, 172: 6, 12: 483, 33: 88, 10: 591, 31: 88, 61: 25, 43: 69, 37: 82, 16: 293, 27: 126, 36: 66, 111: 5, 53: 31, 32: 100, 109: 8, 23: 162, 25: 136, 64: 26, 96: 10, 91: 7, 30: 125, 20: 222, 148: 6, 24: 160, 18: 278, 65: 23, 142: 6, 57: 29, 97: 10, 149: 4, 49: 48, 45: 56, 196: 3, 114: 8, 48: 29, 41: 72, 29: 121, 38: 75, 77: 15, 74: 13, 144: 5, 62: 28, 220: 2, 70: 22, 162: 2, 146: 3, 50: 34, 34: 68, 104: 6, 115: 5, 52: 32, 92: 10, 69: 19, 108: 6, 182: 1, 186: 3, 107: 8, 102: 9, 66: 21, 63: 23, 134: 3, 76: 18, 133: 6, 75: 19, 35: 86, 156: 2, 90: 6, 54: 33, 44: 50, 60: 25, 39: 66, 79: 24, 46: 52, 98: 4, 223: 4, 59: 29, 87: 13, 140: 1, 55: 29, 194: 2, 47: 44, 158: 3, 105: 8, 113: 9, 106: 10, 179: 2, 242: 2, 81: 12, 51: 33, 71: 21, 347: 1, 100: 7, 67: 23, 58: 27, 424: 1, 73: 17, 85: 14, 80: 9, 301: 3, 86: 7, 136: 6, 118: 8, 84: 11, 94: 17, 155: 4, 159: 5, 157: 4, 101: 9, 95: 10, 125: 5, 56: 35, 110: 5, 72: 10, 89: 14, 208: 2, 82: 15, 205: 4, 78: 8, 93: 5, 197: 2, 112: 3, 147: 1, 124: 6, 167: 2, 230: 2, 174: 2, 169: 2, 222: 2, 129: 5, 264: 1, 139: 4, 83: 8, 88: 10, 121: 5, 788: 2, 456: 1, 2414: 1, 116: 6, 119: 5, 141: 4, 103: 4, 304: 1, 380: 2, 191: 2, 143: 3, 219: 1, 126: 5, 192: 2, 651: 1, 329: 2, 190: 3, 180: 1, 520: 1, 340: 1, 201: 3, 406: 1, 185: 1, 137: 3, 325: 2, 252: 1, 122: 3, 187: 1, 132: 1, 183: 1, 152: 2, 131: 4, 120: 2, 494: 1, 274: 1, 467: 1, 217: 1, 224: 1, 151: 5, 127: 2, 153: 3, 199: 1, 228: 2, 154: 4, 164: 3, 383: 1, 123: 4, 145: 3, 1199: 1, 265: 1, 701: 1, 214: 1, 184: 1, 438: 1, 178: 2, 327: 2, 177: 2, 181: 1, 388: 1, 748: 1, 385: 1, 1114: 1, 138: 3, 337: 1, 204: 3, 176: 2, 426: 1, 189: 1, 160: 1, 150: 4, 212: 1, 328: 2, 373: 1, 193: 2, 251: 1, 130: 1, 232: 3, 225: 1, 775: 1, 175: 1, 282: 2, 213: 1, 273: 1, 807: 1, 168: 1, 333: 1, 1032: 1, 135: 1, 165: 1, 1144: 1, 331: 1, 171: 2, 211: 1, 198: 1, 341: 1, 421: 1, 240: 1, 257: 2, 1299: 1, 290: 1, 1006: 1, 247: 2, 308: 1, 1641: 1, 1775: 1, 427: 1, 315: 1, 229: 3, 475: 1, 244: 1, 314: 1, 268: 1, 411: 1, 235: 1, 173: 2, 295: 1, 297: 1, 233: 2, 188: 2, 117: 3, 1155: 1, 344: 1}\n"
     ]
    }
   ],
   "source": [
    "print(in_degree_dist)"
   ]
  },
  {
   "cell_type": "code",
   "execution_count": 40,
   "metadata": {},
   "outputs": [
    {
     "data": {
      "image/png": "[encoded data removed]",
      "text/plain": [
       "<Figure size 432x288 with 1 Axes>"
      ]
     },
     "metadata": {},
     "output_type": "display_data"
    }
   ],
   "source": [
    "# Create log/log plot of \n",
    "import matplotlib.pyplot as plt\n",
    "import numpy as np\n",
    "# print(in_degree_dist.keys())\n",
    "# print(type(in_degree_dist.keys()))\n",
    "# np.log10(np.array\n",
    "x_data = list(in_degree_dist.keys())\n",
    "y_data = list(in_degree_dist.values())\n",
    "y_data_norm = y_data/np.sum(x_data)\n",
    "# print(np.log10(list(in_degree_dist.keys())))\n",
    "\n",
    "plt.xlabel('In-degree')\n",
    "plt.ylabel('Fraction of Nodes')\n",
    "plt.title('Q1: Citation Graph - Normalized In-Degree Distribution')\n",
    "plt.loglog(x_data,y_data_norm,'o')\n",
    "plt.savefig('citation_graph_in_degree.png')\n",
    "# plt.show()"
   ]
  },
  {
   "cell_type": "code",
   "execution_count": 37,
   "metadata": {},
   "outputs": [
    {
     "data": {
      "text/plain": [
       "<Figure size 432x288 with 0 Axes>"
      ]
     },
     "metadata": {},
     "output_type": "display_data"
    }
   ],
   "source": [
    "plt.savefig('citation_graph_in_degree.png')"
   ]
  },
  {
   "cell_type": "code",
   "execution_count": 5,
   "metadata": {},
   "outputs": [],
   "source": [
    "# Question 2:\n",
    "# Generate random directed graph with n nodes and probability p of adding a directed edge from (i to j)\n",
    "import random\n",
    "\n",
    "def make_digraph(num_nodes, p):\n",
    "    digraph = {}\n",
    "\n",
    "    for row in range(num_nodes):\n",
    "        digraph[row] = set([])\n",
    "        for col in range(num_nodes):\n",
    "            a = random.random()\n",
    "            if a < p and row != col:\n",
    "                digraph[row].add(col)\n",
    "\n",
    "    return digraph\n",
    "\n",
    "# digraph1 = make_digraph(5,0.5)\n",
    "# in_degree_dist = directed_graphs.in_degree_distribution(citation_graph)\n",
    "# print(digraph1)\n",
    "            "
   ]
  },
  {
   "cell_type": "code",
   "execution_count": 6,
   "metadata": {},
   "outputs": [
    {
     "data": {
      "image/png": "[encoded data removed]",
      "text/plain": [
       "<Figure size 432x288 with 1 Axes>"
      ]
     },
     "metadata": {},
     "output_type": "display_data"
    }
   ],
   "source": [
    "# Make example of directed graph and plot\n",
    "\n",
    "digraph1 = make_digraph(1000,0.2)\n",
    "in_degree_dist1 = directed_graphs.in_degree_distribution(digraph1)\n",
    "\n",
    "x_data = list(in_degree_dist1.keys())\n",
    "y_data = list(in_degree_dist1.values())\n",
    "y_data_norm = y_data/np.sum(x_data)\n",
    "# print(np.log10(list(in_degree_dist.keys())))\n",
    "\n",
    "plt.xlabel('In-degree')\n",
    "plt.ylabel('Fraction of Nodes')\n",
    "plt.title('Normalized In-Degree Distribution')\n",
    "plt.loglog(x_data,y_data_norm,'o')\n",
    "plt.show()"
   ]
  },
  {
   "cell_type": "code",
   "execution_count": 7,
   "metadata": {},
   "outputs": [
    {
     "data": {
      "image/png": "[encoded data removed]",
      "text/plain": [
       "<Figure size 432x288 with 1 Axes>"
      ]
     },
     "metadata": {},
     "output_type": "display_data"
    }
   ],
   "source": [
    "# Make example of directed graph and plot\n",
    "\n",
    "digraph2 = make_digraph(2000,0.5)\n",
    "in_degree_dist2 = directed_graphs.in_degree_distribution(digraph2)\n",
    "\n",
    "x_data = list(in_degree_dist2.keys())\n",
    "y_data = list(in_degree_dist2.values())\n",
    "y_data_norm = y_data/np.sum(x_data)\n",
    "# print(np.log10(list(in_degree_dist.keys())))\n",
    "\n",
    "plt.xlabel('In-degree')\n",
    "plt.ylabel('Fraction of Nodes')\n",
    "plt.title('Normalized In-Degree Distribution')\n",
    "plt.loglog(x_data,y_data_norm,'o')\n",
    "plt.show()"
   ]
  },
  {
   "cell_type": "code",
   "execution_count": 8,
   "metadata": {},
   "outputs": [
    {
     "data": {
      "image/png": "[encoded data removed]",
      "text/plain": [
       "<Figure size 432x288 with 1 Axes>"
      ]
     },
     "metadata": {},
     "output_type": "display_data"
    }
   ],
   "source": [
    "# Make example of directed graph and plot\n",
    "\n",
    "digraph3 = make_digraph(1000,0.8)\n",
    "in_degree_dist3 = directed_graphs.in_degree_distribution(digraph3)\n",
    "\n",
    "x_data = list(in_degree_dist3.keys())\n",
    "y_data = list(in_degree_dist3.values())\n",
    "y_data_norm = y_data/np.sum(x_data)\n",
    "# print(np.log10(list(in_degree_dist.keys())))\n",
    "\n",
    "plt.xlabel('In-degree')\n",
    "plt.ylabel('Fraction of Nodes')\n",
    "plt.title('Normalized In-Degree Distribution')\n",
    "plt.loglog(x_data,y_data_norm,'o')\n",
    "plt.show()"
   ]
  },
  {
   "cell_type": "markdown",
   "metadata": {},
   "source": [
    "Question 2:\n",
    "\n",
    "1. Yes, the expected value of the in-degree is the same for every node in an ER graph. Concretely, when using the ER algorithm for generating random graphs the expected value of the in-degree for every node is the total number of nodes multiplied by the probability that a directed edge is added between a pair of nodes.\n",
    "\n",
    "2. The in-degree distribution for an ER graph looks like a two-sided symmetric distribution (like a normal distribution) where the highest frequency occurs when the in-degree is at its expected value. As the in-degree deviates further away from the expected value in either direction, the frequency approaches zero exponentially.\n",
    "\n",
    "3. The shape of the in-degree distribution plot for ER looks different from the shape of the in-degree distribution for the citation graph. In the citation graph in-degree distribution plot, the highest frequency occurs when the in-degree is zero and appears to decrease exponentially as in-degree increases. On the other hand in the ER graph in-degree distribution plot, the highest frequency occurs when the in-degree is at its expected value, which is calculated by taking the product of the total number of nodes and the probability that a directed edge is added between a pair of nodes. As the in-degree deviates further away from the expected value in either direction, the frequency approaches zero exponentially."
   ]
  },
  {
   "cell_type": "markdown",
   "metadata": {},
   "source": [
    "### Question 3\n",
    "\n",
    "For this question, we will choose values for $n$ and $m$ that yield a DPA graph whose number of nodes and edges is roughly the same to those of the citation graph. For the nodes, choosing $n$ to be the number of nodes as the citation graph is easy. Since each step in the DPA algorithm adds $m$ edges to the graph, a good choice for $m$ is an integer that is close to the average out-degree of the physics citation graph.\n",
    "\n",
    "For this question, provide numerical values for $n$ and $m$ that you will use in your construction of the DPA graph.\n",
    "\n",
    "Choose:\n",
    "$n = 27770$\n",
    "$m = 13$"
   ]
  },
  {
   "cell_type": "code",
   "execution_count": 11,
   "metadata": {},
   "outputs": [
    {
     "name": "stdout",
     "output_type": "stream",
     "text": [
      "n =  27770\n",
      "sum =  352768\n",
      "avg =  12.703204897371265\n"
     ]
    }
   ],
   "source": [
    "# number of nodes in citation_graph\\\n",
    "n = len(citation_graph.keys())\n",
    "print(\"n = \", n) # each key is an integer corresponding to node number\n",
    "\n",
    "# average out-degree in the physics citation graph\n",
    "# print(list(citation_graph.values())[1000]) # each value is a set of node numbers that the key node connects to\n",
    "# print(list(citation_graph.values())[1000][0])\n",
    "sum = 0\n",
    "for _, val in citation_graph.items():\n",
    "    sum += len(list(val))\n",
    "\n",
    "m = sum/n\n",
    "# print(\"n = \", n)\n",
    "print(\"sum = \", sum)\n",
    "print(\"avg = \", m)\n",
    "m = int(round(m)) # round m to 13"
   ]
  },
  {
   "cell_type": "markdown",
   "metadata": {},
   "source": [
    "### Question 4\n",
    "\n",
    "Implement the DPA algorithm"
   ]
  },
  {
   "cell_type": "code",
   "execution_count": 28,
   "metadata": {},
   "outputs": [
    {
     "name": "stdout",
     "output_type": "stream",
     "text": [
      "0.4102628231048584\n"
     ]
    }
   ],
   "source": [
    "import alg_dpa_trial\n",
    "\n",
    "# dpa_trial = alg_dpa_trial.DPATrial(3)\n",
    "\n",
    "# print(dpa_trial._node_numbers)\n",
    "\n",
    "# new_node_neighbors = dpa_trial.run_trial(5)\n",
    "\n",
    "# print(new_node_neighbors)\n",
    "\n",
    "# print(dpa_trial._node_numbers)\n",
    "\n",
    "# print(dpa_trial._num_nodes)\n",
    "\n",
    "# new_node_neighbors = dpa_trial.run_trial(5)\n",
    "\n",
    "# print(new_node_neighbors)\n",
    "\n",
    "# print(dpa_trial._node_numbers)\n",
    "\n",
    "# print(dpa_trial._num_nodes)\n",
    "\n",
    "import time\n",
    "\n",
    "dpa_digraph = directed_graphs.make_complete_graph(m)\n",
    "# print(dpa_digraph)\n",
    "\n",
    "dpa_trial = alg_dpa_trial.DPATrial(m)\n",
    "# print(dpa_trial._num_nodes)\n",
    "# print(dpa_trial._node_numbers)\n",
    "\n",
    "start = time.time()\n",
    "\n",
    "for idx in range(m,n):\n",
    "    new_node_neighbors = dpa_trial.run_trial(m)\n",
    "    dpa_digraph[idx] = new_node_neighbors\n",
    "    \n",
    "end = time.time()\n",
    "print(end - start)\n",
    "# print(dpa_digraph)\n",
    "\n",
    "# n = 500: 0.12s\n",
    "# n = 1000: 0.43s\n",
    "# n = 2000: 1.78s\n",
    "# n = 4000: 7.14s\n",
    "# n = 8000: 32.14s"
   ]
  },
  {
   "cell_type": "code",
   "execution_count": 41,
   "metadata": {},
   "outputs": [
    {
     "data": {
      "image/png": "[encoded data removed]",
      "text/plain": [
       "<Figure size 432x288 with 1 Axes>"
      ]
     },
     "metadata": {},
     "output_type": "display_data"
    }
   ],
   "source": [
    "# Calculate in-degree distribution of DPA directed graph\n",
    "dpa_in_degree_dist = directed_graphs.in_degree_distribution(dpa_digraph)\n",
    "x_data = list(dpa_in_degree_dist.keys())\n",
    "y_data = list(dpa_in_degree_dist.values())\n",
    "y_data_norm = y_data/np.sum(x_data)\n",
    "# print(np.log10(list(in_degree_dist.keys())))\n",
    "\n",
    "plt.xlabel('In-degree')\n",
    "plt.ylabel('Fraction of Nodes')\n",
    "plt.title('Q4: DPA - Normalized In-Degree Distribution')\n",
    "plt.loglog(x_data,y_data_norm,'o')\n",
    "plt.savefig('dpa_graph_in_degree.png')\n",
    "# plt.show()"
   ]
  },
  {
   "cell_type": "code",
   "execution_count": 33,
   "metadata": {},
   "outputs": [
    {
     "name": "stdout",
     "output_type": "stream",
     "text": [
      "{9026: 1, 7427: 1, 7872: 1, 8806: 1, 7945: 1, 9375: 1, 8697: 1, 7930: 1, 8054: 1, 8888: 1, 9307: 1, 8920: 1, 8800: 1, 685: 1, 4329: 1, 1493: 1, 2007: 1, 3977: 1, 2568: 1, 800: 1, 57: 10, 510: 1, 3526: 1, 2556: 1, 1570: 1, 613: 1, 1368: 1, 1843: 1, 2043: 1, 256: 3, 1586: 1, 3611: 1, 1318: 1, 1392: 1, 432: 1, 1088: 1, 1631: 1, 1650: 1, 429: 1, 460: 1, 159: 2, 317: 1, 3561: 1, 1081: 1, 897: 1, 396: 1, 84: 5, 41: 12, 6: 515, 223: 3, 1047: 1, 215: 1, 1681: 1, 2651: 1, 2337: 1, 730: 1, 297: 1, 1719: 1, 650: 1, 203: 2, 158: 4, 190: 1, 751: 1, 1866: 1, 97: 2, 394: 1, 88: 7, 1050: 1, 556: 1, 604: 1, 1593: 1, 934: 1, 195: 2, 494: 1, 187: 1, 858: 1, 318: 2, 358: 1, 120: 4, 204: 2, 29: 48, 518: 1, 191: 1, 89: 6, 122: 5, 100: 5, 1108: 1, 162: 2, 932: 1, 792: 1, 739: 1, 13: 125, 199: 2, 53: 7, 134: 1, 82: 3, 469: 1, 288: 2, 893: 1, 217: 1, 61: 10, 526: 1, 1: 4629, 450: 2, 1065: 1, 270: 2, 121: 5, 565: 1, 72: 4, 360: 1, 762: 1, 118: 5, 174: 1, 296: 2, 495: 1, 20: 57, 873: 1, 119: 7, 117: 7, 17: 71, 803: 1, 357: 1, 257: 1, 99: 4, 76: 4, 530: 1, 71: 5, 116: 4, 511: 1, 219: 2, 442: 1, 590: 1, 143: 2, 65: 8, 387: 1, 105: 3, 144: 2, 25: 40, 175: 3, 62: 6, 228: 3, 12: 179, 577: 1, 353: 2, 148: 1, 24: 37, 186: 2, 112: 1, 42: 8, 478: 1, 393: 1, 370: 1, 286: 2, 456: 1, 230: 1, 21: 47, 55: 14, 163: 1, 327: 1, 311: 1, 672: 1, 479: 1, 777: 1, 398: 1, 0: 13975, 252: 1, 243: 1, 26: 35, 193: 2, 291: 1, 263: 2, 33: 28, 79: 12, 3: 1399, 111: 2, 437: 1, 196: 1, 35: 19, 188: 1, 5: 639, 64: 8, 265: 1, 202: 1, 31: 29, 2: 2219, 250: 1, 4: 887, 59: 10, 234: 1, 75: 6, 354: 1, 404: 1, 27: 34, 11: 191, 30: 30, 40: 11, 168: 1, 237: 2, 58: 6, 95: 2, 220: 1, 627: 1, 277: 1, 142: 2, 434: 1, 36: 20, 702: 1, 161: 3, 90: 2, 573: 1, 216: 2, 225: 1, 9: 263, 49: 11, 129: 3, 153: 2, 127: 2, 207: 2, 206: 2, 253: 2, 54: 13, 130: 3, 328: 1, 152: 1, 132: 3, 356: 1, 439: 1, 477: 1, 19: 76, 94: 1, 113: 1, 115: 1, 74: 5, 101: 4, 107: 2, 167: 4, 445: 1, 278: 1, 32: 28, 10: 203, 315: 1, 340: 1, 517: 1, 103: 3, 279: 1, 108: 2, 301: 1, 140: 1, 14: 110, 166: 2, 182: 1, 135: 2, 86: 3, 151: 2, 15: 83, 34: 19, 249: 1, 123: 2, 102: 3, 147: 4, 131: 1, 197: 1, 47: 17, 39: 14, 233: 1, 50: 14, 91: 4, 48: 11, 210: 1, 87: 3, 37: 16, 209: 2, 60: 9, 519: 1, 316: 1, 70: 2, 69: 4, 183: 1, 145: 1, 106: 2, 92: 4, 51: 12, 229: 1, 83: 5, 141: 1, 125: 4, 156: 1, 73: 4, 7: 376, 43: 10, 44: 13, 251: 2, 85: 3, 189: 1, 22: 40, 8: 292, 66: 4, 78: 6, 178: 1, 224: 1, 322: 1, 128: 1, 63: 6, 56: 7, 93: 4, 285: 1, 194: 1, 38: 19, 146: 1, 205: 1, 81: 2, 46: 9, 18: 74, 23: 47, 77: 3, 214: 1, 96: 3, 208: 1, 179: 1, 109: 2, 16: 89, 274: 1, 181: 1, 28: 28, 52: 7, 45: 9, 110: 1, 154: 1, 67: 4, 244: 1, 98: 4, 80: 4, 157: 1, 124: 1, 155: 1, 137: 1, 68: 2}\n"
     ]
    }
   ],
   "source": [
    "print(dpa_in_degree_dist)"
   ]
  },
  {
   "cell_type": "markdown",
   "metadata": {},
   "source": [
    "### Question 5\n",
    "\n",
    "1. The plot of the in-degree distribution for the DPA graph is very similar to that of the citation graph. In both distributions, the highest frequency occurs when the in-degree is zero. The frequency decreases and approaches zero exponentially as in-degree increases. One subtle difference between the two distributions is that for the citation graph, the distribution appears to decrease with a smaller slope initially and decrease with a greater slope as in-degree increases. For the DPA graph on the other hand, the distribution appears to decrease at more of a constant slope. Another observation in both distributions is that the frequency may be the same for a range of in-degrees. The range of in-degrees that have the same frequency tends to get wider as frequency decreases.\n",
    "\n",
    "2. The \"rich gets richer\" phenomenon mimics the behavior of the DPA process quite well. The reason is that in each iteration, the probability that a new node connects to an existing node j is directly proportional to the in-degree of node j. Hence, if an existing node j has a higher in-degree relative to other nodes, it is more likely that new nodes will connect to node j instead of other existing nodes. This means that existing nodes with a higher in-degree (\"rich\" nodes) increase their in-degree at a faster rate than nodes with a lower in-degree.\n",
    "\n",
    "3. The \"rich gets richer\" phenomenon can also explain the structure of the physics citation graph. A paper that has a more citations is more likely to be seen in search results and more likely to be viewed as credible compared to a paper with fewer citations. Thus, high citation papers tend to increase their number of citations at a faster rate than low citation papers."
   ]
  }
 ],
 "metadata": {
  "kernelspec": {
   "display_name": "Python 3",
   "language": "python",
   "name": "python3"
  },
  "language_info": {
   "codemirror_mode": {
    "name": "ipython",
    "version": 3
   },
   "file_extension": ".py",
   "mimetype": "text/x-python",
   "name": "python",
   "nbconvert_exporter": "python",
   "pygments_lexer": "ipython3",
   "version": "3.6.5"
  }
 },
 "nbformat": 4,
 "nbformat_minor": 2
}
