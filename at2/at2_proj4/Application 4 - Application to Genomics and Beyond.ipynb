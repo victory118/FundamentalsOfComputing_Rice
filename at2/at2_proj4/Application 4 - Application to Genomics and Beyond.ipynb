{
 "cells": [
  {
   "cell_type": "code",
   "execution_count": 2,
   "metadata": {},
   "outputs": [
    {
     "name": "stdout",
     "output_type": "stream",
     "text": [
      "human_seq =  MQNSHSGVNQLGGVFVNGRPLPDSTRQKIVELAHSGARPCDISRILQVSNGCVSKILGRYYETGSIRPRAIGGSKPRVATPEVVSKIAQYKRECPSIFAWEIRDRLLSEGVCTNDNIPSVSSINRVLRNLASEKQQMGADGMYDKLRMLNGQTGSWGTRPGWYPGTSVPGQPTQDGCQQQEGGGENTNSISSNGEDSDEAQMRLQLKRKLQRNRTSFTQEQIEALEKEFERTHYPDVFARERLAAKIDLPEARIQVWFSNRRAKWRREEKLRNQRRQASNTPSHIPISSSFSTSVYQPIPQPTTPVSSFTSGSMLGRTDTALTNTYSALPPMPSFTMANNLPMQPPVPSQTSSYSCMLPTSPSVNGRSYDTYTPPHMQTHMNSQPMGTSGTTSTGLISPGVSVPVQVPGSEPDMSQYWPRLQ\n",
      "\n",
      "fly_seq =  MRNLPCLGTAGGSGLGGIAGKPSPTMEAVEASTASHPHSTSSYFATTYYHLTDDECHSGVNQLGGVFVGGRPLPDSTRQKIVELAHSGARPCDISRILQVSNGCVSKILGRYYETGSIRPRAIGGSKPRVATAEVVSKISQYKRECPSIFAWEIRDRLLQENVCTNDNIPSVSSINRVLRNLAAQKEQQSTGSGSSSTSAGNSISAKVSVSIGGNVSNVASGSRGTLSSSTDLMQTATPLNSSESGGASNSGEGSEQEAIYEKLRLLNTQHAAGPGPLEPARAAPLVGQSPNHLGTRSSHPQLVHGNHQALQQHQQQSWPPRHYSGSWYPTSLSEIPISSAPNIASVTAYASGPSLAHSLSPPNDIESLASIGHQRNCPVATEDIHLKKELDGHQSDETGSGEGENSNGGASNIGNTEDDQARLILKRKLQRNRTSFTNDQIDSLEKEFERTHYPDVFARERLAGKIGLPEARIQVWFSNRRAKWRREEKLRNQRRTPNSTGASATSSSTSATASLTDSPNSLSACSSLLSGSAGGPSVSTINGLSSPSTLSTNVNAPTLGAGIDSSESPTPIPHIRPSCTSDNDNGRQSEDCRRVCSPCPLGVGGHQNTHHIQSNGHAQGHALVPAISPRLNFNSGSFGAMYSNMHHTALSMSDSYGAVTPIPSFNHSAVGPLAPPSPIPQQGDLTPSSLYPCHMTLRPPPMAPAHHHIVPGDGGRPAGVGLGSGQSANLGASCSGSGYEVLSAYALPPPPMASSSAADSSFSAASSASANVTPHHTIAQESCPSPCSSASHFGVAHSSGFSSDPISPAVSSYAHMSYNYASSANTMTPSSASGTSAHVAPGKQQFFASCFYSPWV\n"
     ]
    }
   ],
   "source": [
    "# Question 1\n",
    "\n",
    "# load human and fruitfly protein sequences\n",
    "import alg_application4_provided as app4\n",
    "\n",
    "human_seq = app4.read_protein(app4.HUMAN_EYELESS_URL)\n",
    "fly_seq = app4.read_protein(app4.FRUITFLY_EYELESS_URL)\n",
    "print(\"human_seq = \", human_seq)\n",
    "print()\n",
    "print(\"fly_seq = \", fly_seq)\n",
    "\n",
    "# Load the scoring matrix PAM50\n",
    "scoring_matrix = app4.read_scoring_matrix(app4.PAM50_URL)\n",
    "# print()\n",
    "# print(\"scoring_matrix = \", scoring_matrix)\n"
   ]
  },
  {
   "cell_type": "code",
   "execution_count": 5,
   "metadata": {},
   "outputs": [
    {
     "name": "stdout",
     "output_type": "stream",
     "text": [
      "score =  875\n",
      "align_x =  HSGVNQLGGVFVNGRPLPDSTRQKIVELAHSGARPCDISRILQVSNGCVSKILGRYYETGSIRPRAIGGSKPRVATPEVVSKIAQYKRECPSIFAWEIRDRLLSEGVCTNDNIPSVSSINRVLRNLASEK-QQ\n",
      "align_y =  HSGVNQLGGVFVGGRPLPDSTRQKIVELAHSGARPCDISRILQVSNGCVSKILGRYYETGSIRPRAIGGSKPRVATAEVVSKISQYKRECPSIFAWEIRDRLLQENVCTNDNIPSVSSINRVLRNLAAQKEQQ\n"
     ]
    }
   ],
   "source": [
    "# compute local alignments of the sequences\n",
    "import alg_project4_solution as proj4\n",
    "\n",
    "global_flag = False\n",
    "alignment_matrix = proj4.compute_alignment_matrix(human_seq, fly_seq, scoring_matrix, global_flag)\n",
    "score, align_x, align_y = proj4.compute_local_alignment(human_seq, fly_seq, scoring_matrix, alignment_matrix)\n",
    "\n",
    "print(\"score = \", score)\n",
    "print(\"align_x = \", align_x)\n",
    "print(\"align_y = \", align_y)\n"
   ]
  },
  {
   "cell_type": "code",
   "execution_count": 21,
   "metadata": {},
   "outputs": [
    {
     "name": "stdout",
     "output_type": "stream",
     "text": [
      "125\n",
      "GHGGVNQLGGVFVNGRPLPDVVRQRIVELAHQGVRPCDISRQLRVSHGCVSKILGRYYETGSIKPGVIGGSKPKVATPKVVEKIAEYKRQNPTMFAWEIRDRLLAERVCDNDTVPSVSSINRIIR\n",
      "\n",
      "133\n",
      "132\n",
      "133\n",
      "133\n",
      "\n",
      "score =  613\n",
      "133\n",
      "align_human =  -HSGVNQLGGVFVNGRPLPDSTRQKIVELAHSGARPCDISRILQVSNGCVSKILGRYYETGSIRPRAIGGSKPRVATPEVVSKIAQYKRECPSIFAWEIRDRLLSEGVCTNDNIPSVSSINRVLRNLASEKQQ\n",
      "133\n",
      "align_pax_human =  GHGGVNQLGGVFVNGRPLPDVVRQRIVELAHQGVRPCDISRQLRVSHGCVSKILGRYYETGSIKPGVIGGSKPKVATPKVVEKIAEYKRQNPTMFAWEIRDRLLAERVCDNDTVPSVSSINRIIR--------\n",
      "\n",
      "score =  586\n",
      "134\n",
      "align_fly =  -HSGVNQLGGVFVGGRPLPDSTRQKIVELAHSGARPCDISRILQVSNGCVSKILGRYYETGSIRPRAIGGSKPRVATAEVVSKISQYKRECPSIFAWEIRDRLLQENVCTNDNIPSVSSINRVLRNLAAQKEQQ\n",
      "134\n",
      "align_pax_fly =  GHGGVNQLGGVFVNGRPLPDVVRQRIVELAHQGVRPCDISRQLRVSHGCVSKILGRYYETGSIKPGVIGGSKPKVATPKVVEKIAEYKRQNPTMFAWEIRDRLLAERVCDNDTVPSVSSINRIIR---------\n",
      "\n",
      "human/pax agree/total % =  72.93233082706767 %\n",
      "\n",
      "fly/pax agree/total % =  70.1492537313433 %\n"
     ]
    }
   ],
   "source": [
    "# Question 2\n",
    "\n",
    "# Load the file ConsensusPAXDomain\n",
    "pax_seq = app4.read_protein(app4.CONSENSUS_PAX_URL)\n",
    "print(len(pax_seq))\n",
    "\n",
    "print(pax_seq)\n",
    "print()\n",
    "\n",
    "# Delete any dashes '-' present in the sequence of the local alignments\n",
    "align_x_nd = align_x.replace('-','')\n",
    "align_y_nd = align_y.replace('-','')\n",
    "print(len(align_x))\n",
    "print(len(align_x_nd))\n",
    "print(len(align_y))\n",
    "print(len(align_y_nd))\n",
    "print()\n",
    "\n",
    "# Compute the global alignment of this dash-less sequence with the ConsensusPAXDomain sequence.\n",
    "\n",
    "# global alignment of human with pax\n",
    "global_flag = True\n",
    "alignment_matrix2h = proj4.compute_alignment_matrix(align_x_nd, pax_seq, scoring_matrix, global_flag)\n",
    "score2h, align_human, align_pax_human = proj4.compute_global_alignment(align_x_nd, pax_seq, scoring_matrix, alignment_matrix2h)\n",
    "print(\"score = \", score2h)\n",
    "print(len(align_human))\n",
    "print(\"align_human = \", align_human)\n",
    "print(len(align_pax_human))\n",
    "print(\"align_pax_human = \", align_pax_human)\n",
    "print()\n",
    "\n",
    "# global alignment of fruitfly with pax\n",
    "alignment_matrix2f = proj4.compute_alignment_matrix(align_y_nd, pax_seq, scoring_matrix, global_flag)\n",
    "score2f, align_fly, align_pax_fly = proj4.compute_global_alignment(align_y_nd, pax_seq, scoring_matrix, alignment_matrix2f)\n",
    "print(\"score = \", score2f)\n",
    "print(len(align_fly))\n",
    "print(\"align_fly = \", align_fly)\n",
    "print(len(align_pax_fly))\n",
    "print(\"align_pax_fly = \", align_pax_fly)\n",
    "\n",
    "# Compare corresponding elements of these two globally-aligned sequences (local vs. consensus) and compute the percentage of \n",
    "# elements in these two sequences that agree.\n",
    "\n",
    "# count agreement in human and pax sequences\n",
    "human_agree = 0\n",
    "for idx in range(len(align_human)):\n",
    "    if align_human[idx] == align_pax_human[idx]:\n",
    "        human_agree += 1\n",
    "\n",
    "print()\n",
    "print(\"human/pax agree/total % = \", human_agree/len(align_human)*100.0, \"%\")\n",
    "\n",
    "# count agreement in fruitfly and pax sequences\n",
    "fly_agree = 0\n",
    "for idx in range(len(align_fly)):\n",
    "    if align_fly[idx] == align_pax_fly[idx]:\n",
    "        fly_agree += 1\n",
    "\n",
    "print()\n",
    "print(\"fly/pax agree/total % = \", fly_agree/len(align_fly)*100.0, \"%\")"
   ]
  },
  {
   "cell_type": "markdown",
   "metadata": {},
   "source": [
    "### Question 3\n",
    "\n",
    "The same level of agreement would not be likely if we compared two random sequences of amino acids of length similar to that of HumanEyelessProtein and FruitflyEyelessProtein. If we are comparing two random sequences, this implies that we may not be taking into account the prior probability of any particular amino acid appearing at a particular location in the protein. Hence, every feasible sequence would be considered equally likely. If we assume that there are 23 amino acids and look at a random sequence of length 130 without restriction, then there would be 23^130 possible sequences. Of course, not every sequence is feasible but the number of possible sequences will still be astonishingly large. This means that the probability of getting 70% agreement on two random sequences of length 130 is extremely low."
   ]
  },
  {
   "cell_type": "code",
   "execution_count": 25,
   "metadata": {},
   "outputs": [],
   "source": [
    "# Question 4\n",
    "import random\n",
    "\n",
    "def generate_null_distribution(seq_x,seq_y,scoring_matrix,num_trials):\n",
    "    \"\"\"\n",
    "    This function should return a dictionary scoring_distribution that represents an\n",
    "    un-normalized distribution generated by performing the following process num_trials times:\n",
    "    * Generate a random permutation rand_y of the sequence seq_y using random.shuffle()\n",
    "    * Compute the maximum value score for the local alignment of seq_x and rand_y using the score\n",
    "    matrix scoring_matrix\n",
    "    * Increment the entry score in the dictionary scoring_distribution by one\n",
    "    \"\"\"\n",
    "    scoring_distribution = {}\n",
    "    \n",
    "    for _ in range(num_trials):\n",
    "        \n",
    "        # generate a random permutation rand_y of the sequence seq_y using random.shuffle().\n",
    "        rand_y = list(seq_y)\n",
    "        random.shuffle(rand_y)\n",
    "        \n",
    "        # compute maximum value score for the local alignment of seq_x and rand_y using scoring_matrix\n",
    "        global_flag = False\n",
    "        alignment_matrix = proj4.compute_alignment_matrix(seq_x, rand_y, scoring_matrix, global_flag)\n",
    "        score, align_x, align_y = proj4.compute_local_alignment(seq_x, rand_y, scoring_matrix, alignment_matrix)\n",
    "        \n",
    "        if score in scoring_distribution:\n",
    "            scoring_distribution[score] += 1\n",
    "        else:\n",
    "            scoring_distribution[score] = 1\n",
    "        \n",
    "    return scoring_distribution\n",
    "\n",
    "num_trials = 1000\n",
    "scoring_distribution = generate_null_distribution(human_seq,fly_seq,scoring_matrix,num_trials)"
   ]
  },
  {
   "cell_type": "code",
   "execution_count": 48,
   "metadata": {},
   "outputs": [
    {
     "data": {
      "image/png": "[encoded data removed]",
      "text/plain": [
       "<Figure size 432x288 with 1 Axes>"
      ]
     },
     "metadata": {},
     "output_type": "display_data"
    }
   ],
   "source": [
    "# Plot the scoring_distribution in a bar plot\n",
    "import matplotlib.pyplot as plt\n",
    "import numpy as np\n",
    "\n",
    "plt.xlabel('Score')\n",
    "plt.ylabel('Fraction of total trials')\n",
    "plt.title('Q4: Normalized scoring distribution \\n of human vs. random fruitfly local alignment')\n",
    "plt.bar(scoring_distribution.keys(), np.array(list(scoring_distribution.values()))/num_trials)\n",
    "plt.grid()\n",
    "plt.savefig('loc_align_score_distribution_q4_proj4_at2.png')\n",
    "plt.show()"
   ]
  },
  {
   "cell_type": "code",
   "execution_count": 39,
   "metadata": {},
   "outputs": [
    {
     "name": "stdout",
     "output_type": "stream",
     "text": [
      "score mean =  51.808\n",
      "score std. dev. =  6.996508843701979\n",
      "z-score =  117.65753726460443\n"
     ]
    }
   ],
   "source": [
    "# Question 5\n",
    "\n",
    "# Calculate mean of the scores\n",
    "\n",
    "score_sum = 0\n",
    "for key in scoring_distribution:\n",
    "    score_sum += key*scoring_distribution[key]\n",
    "\n",
    "score_mean = score_sum/num_trials\n",
    "print(\"score mean = \", score_mean)\n",
    "\n",
    "# Calculate the standard deviation of the scores\n",
    "\n",
    "score_variance_sum = 0\n",
    "for key in scoring_distribution:\n",
    "    score_variance_sum += scoring_distribution[key]*(key - score_mean)**2\n",
    "    \n",
    "score_stdev = np.sqrt(score_variance_sum/num_trials)\n",
    "print(\"score std. dev. = \", score_stdev)\n",
    "\n",
    "# calculate the z-score\n",
    "# the score of the local alignment of human_seq and fly_seq was 875\n",
    "\n",
    "z_score = (875-score_mean)/score_stdev\n",
    "print(\"z-score = \", z_score)"
   ]
  },
  {
   "cell_type": "markdown",
   "metadata": {},
   "source": [
    "### Question 6\n",
    "\n",
    "Based on my z-score of 117.657, I would hypothesize that the score resulting from the local alignment of HumanEyelessProtein and the FruitflyEyelessProtein was not due to chance. The z-score of 117.657 indicates that an alignment score of 875 is 117.657 standard deviations above the mean score, which means it is extremely unlikely that it occurred randomly.\n",
    "\n",
    "For comparison, the odds of winning the Mega Millions lottery is about 1 in 300,000,000. In a normal distribution, the odds of being outside of 6 standard deviations from the mean is 1 in 506,797,346. The alignment score of 875 is 117.657 standard deviations from the mean. Therefore, it is much more likely to win the lottery than the similarity between the human eyeless protein and the fruitfly eyeless protein being due to chance."
   ]
  },
  {
   "cell_type": "markdown",
   "metadata": {},
   "source": [
    "### Question 7\n",
    "\n",
    "The edit distance, $d_e$, for two strings $x$ and $y$ can be expressed in terms of lengths of the two strings and their corresponding similarity score as follows:\n",
    "$$\n",
    "d_e=|x|+|y|-score(x,y)\n",
    "$$\n",
    "where $score(x,y)$ is the score returned by the global alignment of these two strings using a very simple scoring matrix that can be computed using **build_scoring_matrix**.\n",
    "\n",
    "Let's consider three cases to solve for the values of `diag_score`, `off_diag_score`, and `dash_score`.\n",
    "\n",
    "### Case 1\n",
    "$x=a$ and $y=a$ so $d_e=0$. Then we have\n",
    "$$\n",
    "d_e = 1 + 1 - score(x,y) = 0\\\\\n",
    "\\text{diag_score}=score(x,y) = 2\n",
    "$$\n",
    "\n",
    "### Case 2\n",
    "$x=a$ and $y=-$ so $d_e=1$. Then we have\n",
    "$$\n",
    "d_e = 1 + 0 - score(x,y) = 1\\\\\n",
    "\\text{dash_score}=score(x,y) = 0\n",
    "$$\n",
    "\n",
    "### Case 3\n",
    "$x=a$ and $y=b$ so $d_e=1$. Then we have\n",
    "$$\n",
    "d_e = 1 + 1 - score(x,y) = 1\\\\\n",
    "\\text{off_diag_score}=score(x,y) = 1\n",
    "$$"
   ]
  },
  {
   "cell_type": "code",
   "execution_count": 49,
   "metadata": {},
   "outputs": [
    {
     "name": "stdout",
     "output_type": "stream",
     "text": [
      "Loaded a dictionary with 79340 words\n",
      "{'humbler', 'fumble', 'mumble', 'humbles', 'rumble', 'humbly', 'jumble', 'bumble', 'tumble', 'humbled', 'humble'}\n",
      "\n",
      "{'firstly', 'liefly', 'refly', 'firmly', 'fireclay', 'finely', 'tiredly', 'firefly', 'freely', 'fixedly', 'direly'}\n"
     ]
    }
   ],
   "source": [
    "# Question 8\n",
    "\n",
    "# Load the word list\n",
    "word_list = app4.read_words(app4.WORD_LIST_URL)\n",
    "\n",
    "def check_spelling(checked_word, dist, word_list):\n",
    "    \"\"\"\n",
    "    Iterates through word_list and returns the set of all words that are\n",
    "    within edit distance dist of the string checked_word\n",
    "    \"\"\"\n",
    "    close_words = []\n",
    "    \n",
    "    diag_score = 2\n",
    "    off_diag_score = 1\n",
    "    dash_score = 0\n",
    "    global_flag = False\n",
    "    \n",
    "    for word in word_list:\n",
    "        alphabet = set(word + checked_word)\n",
    "        scoring_matrix = proj4.build_scoring_matrix(alphabet, diag_score, off_diag_score, dash_score)\n",
    "        \n",
    "#         print(word)\n",
    "#         print()\n",
    "#         print(scoring_matrix)\n",
    "#         print()\n",
    "        \n",
    "        alignment_matrix = proj4.compute_alignment_matrix(checked_word, word, scoring_matrix, global_flag)\n",
    "        \n",
    "#         print(alignment_matrix)\n",
    "#         print()\n",
    "        score, align_x, align_y = proj4.compute_local_alignment(checked_word, word, scoring_matrix, alignment_matrix)\n",
    "        \n",
    "#         print(score)\n",
    "#         print(align_x)\n",
    "#         print(align_y)\n",
    "        \n",
    "        edit_distance = len(checked_word) + len(word) - score\n",
    "        if edit_distance <= dist:\n",
    "            close_words.append(word)\n",
    "            \n",
    "    return set(close_words)\n",
    "\n",
    "humble_words = check_spelling(\"humble\", 1, word_list)\n",
    "print(humble_words)\n",
    "firefly_words = check_spelling(\"firefly\", 2, word_list)\n",
    "print()\n",
    "print(firefly_words)"
   ]
  },
  {
   "cell_type": "markdown",
   "metadata": {},
   "source": [
    "### Question 9\n",
    "\n",
    "No answer."
   ]
  }
 ],
 "metadata": {
  "kernelspec": {
   "display_name": "Python 3",
   "language": "python",
   "name": "python3"
  },
  "language_info": {
   "codemirror_mode": {
    "name": "ipython",
    "version": 3
   },
   "file_extension": ".py",
   "mimetype": "text/x-python",
   "name": "python",
   "nbconvert_exporter": "python",
   "pygments_lexer": "ipython3",
   "version": "3.6.5"
  }
 },
 "nbformat": 4,
 "nbformat_minor": 2
}
